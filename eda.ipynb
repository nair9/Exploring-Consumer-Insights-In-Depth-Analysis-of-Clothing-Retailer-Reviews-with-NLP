{
 "cells": [
  {
   "cell_type": "markdown",
   "id": "07920a19",
   "metadata": {},
   "source": [
    "Importing necessary packages"
   ]
  },
  {
   "cell_type": "code",
   "execution_count": 105,
   "id": "44a72b4a-cb32-4acc-8c49-e470e4704319",
   "metadata": {},
   "outputs": [],
   "source": [
    "import math\n",
    "import numpy as np\n",
    "import pandas as pd\n",
    "import seaborn as sns\n",
    "import matplotlib.pyplot as plt\n",
    "import warnings\n",
    "# Ignore all warnings\n",
    "warnings.filterwarnings(\"ignore\")"
   ]
  },
  {
   "cell_type": "markdown",
   "id": "2d6e5597",
   "metadata": {},
   "source": [
    "Reading the reviews data"
   ]
  },
  {
   "cell_type": "code",
   "execution_count": 106,
   "id": "76917c9f",
   "metadata": {},
   "outputs": [],
   "source": [
    "data = pd.read_csv('Raw_Reviews.csv')"
   ]
  },
  {
   "cell_type": "code",
   "execution_count": 107,
   "id": "159677aa",
   "metadata": {},
   "outputs": [
    {
     "name": "stdout",
     "output_type": "stream",
     "text": [
      "Dimensions of the data: 23486 rows and 6 columns\n"
     ]
    },
    {
     "data": {
      "text/html": [
       "<div>\n",
       "<style scoped>\n",
       "    .dataframe tbody tr th:only-of-type {\n",
       "        vertical-align: middle;\n",
       "    }\n",
       "\n",
       "    .dataframe tbody tr th {\n",
       "        vertical-align: top;\n",
       "    }\n",
       "\n",
       "    .dataframe thead th {\n",
       "        text-align: right;\n",
       "    }\n",
       "</style>\n",
       "<table border=\"1\" class=\"dataframe\">\n",
       "  <thead>\n",
       "    <tr style=\"text-align: right;\">\n",
       "      <th></th>\n",
       "      <th>Product_ID</th>\n",
       "      <th>Age</th>\n",
       "      <th>Title</th>\n",
       "      <th>Text_Review</th>\n",
       "      <th>Rating</th>\n",
       "      <th>Type</th>\n",
       "    </tr>\n",
       "  </thead>\n",
       "  <tbody>\n",
       "    <tr>\n",
       "      <th>0</th>\n",
       "      <td>767</td>\n",
       "      <td>33</td>\n",
       "      <td>NaN</td>\n",
       "      <td>Absolutely wonderful - silky and sexy and comf...</td>\n",
       "      <td>4</td>\n",
       "      <td>Intimate</td>\n",
       "    </tr>\n",
       "    <tr>\n",
       "      <th>1</th>\n",
       "      <td>1080</td>\n",
       "      <td>34</td>\n",
       "      <td>NaN</td>\n",
       "      <td>Love this dress!  it's sooo pretty.  i happene...</td>\n",
       "      <td>5</td>\n",
       "      <td>Dresses</td>\n",
       "    </tr>\n",
       "    <tr>\n",
       "      <th>2</th>\n",
       "      <td>1077</td>\n",
       "      <td>60</td>\n",
       "      <td>Some major design flaws</td>\n",
       "      <td>I had such high hopes for this dress and reall...</td>\n",
       "      <td>3</td>\n",
       "      <td>Dresses</td>\n",
       "    </tr>\n",
       "    <tr>\n",
       "      <th>3</th>\n",
       "      <td>1049</td>\n",
       "      <td>50</td>\n",
       "      <td>My favorite buy!</td>\n",
       "      <td>I love, love, love this jumpsuit. it's fun, fl...</td>\n",
       "      <td>5</td>\n",
       "      <td>Bottoms</td>\n",
       "    </tr>\n",
       "    <tr>\n",
       "      <th>4</th>\n",
       "      <td>847</td>\n",
       "      <td>47</td>\n",
       "      <td>Flattering shirt</td>\n",
       "      <td>This shirt is very flattering to all due to th...</td>\n",
       "      <td>5</td>\n",
       "      <td>Tops</td>\n",
       "    </tr>\n",
       "  </tbody>\n",
       "</table>\n",
       "</div>"
      ],
      "text/plain": [
       "   Product_ID  Age                    Title  \\\n",
       "0         767   33                      NaN   \n",
       "1        1080   34                      NaN   \n",
       "2        1077   60  Some major design flaws   \n",
       "3        1049   50         My favorite buy!   \n",
       "4         847   47         Flattering shirt   \n",
       "\n",
       "                                         Text_Review  Rating      Type  \n",
       "0  Absolutely wonderful - silky and sexy and comf...       4  Intimate  \n",
       "1  Love this dress!  it's sooo pretty.  i happene...       5   Dresses  \n",
       "2  I had such high hopes for this dress and reall...       3   Dresses  \n",
       "3  I love, love, love this jumpsuit. it's fun, fl...       5   Bottoms  \n",
       "4  This shirt is very flattering to all due to th...       5      Tops  "
      ]
     },
     "execution_count": 107,
     "metadata": {},
     "output_type": "execute_result"
    }
   ],
   "source": [
    "print(f\"Dimensions of the data: {data.shape[0]} rows and {data.shape[1]} columns\")\n",
    "data.head()"
   ]
  },
  {
   "cell_type": "markdown",
   "id": "cc60bd2c",
   "metadata": {},
   "source": [
    "**Understanding the data better**"
   ]
  },
  {
   "cell_type": "code",
   "execution_count": 108,
   "id": "d87cd94d",
   "metadata": {},
   "outputs": [
    {
     "name": "stdout",
     "output_type": "stream",
     "text": [
      "Dimensions of the data: 23486 rows and 6 columns\n"
     ]
    }
   ],
   "source": [
    "print(f\"Dimensions of the data: {data.shape[0]} rows and {data.shape[1]} columns\")"
   ]
  },
  {
   "cell_type": "code",
   "execution_count": 109,
   "id": "971cc9aa",
   "metadata": {},
   "outputs": [
    {
     "name": "stdout",
     "output_type": "stream",
     "text": [
      "<class 'pandas.core.frame.DataFrame'>\n",
      "RangeIndex: 23486 entries, 0 to 23485\n",
      "Data columns (total 6 columns):\n",
      " #   Column       Non-Null Count  Dtype \n",
      "---  ------       --------------  ----- \n",
      " 0   Product_ID   23486 non-null  int64 \n",
      " 1   Age          23486 non-null  int64 \n",
      " 2   Title        19676 non-null  object\n",
      " 3   Text_Review  22641 non-null  object\n",
      " 4   Rating       23486 non-null  int64 \n",
      " 5   Type         23472 non-null  object\n",
      "dtypes: int64(3), object(3)\n",
      "memory usage: 1.1+ MB\n"
     ]
    }
   ],
   "source": [
    "data.info()"
   ]
  },
  {
   "cell_type": "code",
   "execution_count": 110,
   "id": "a7ad2d7b",
   "metadata": {},
   "outputs": [
    {
     "data": {
      "text/plain": [
       "Product_ID      int64\n",
       "Age             int64\n",
       "Title          object\n",
       "Text_Review    object\n",
       "Rating          int64\n",
       "Type           object\n",
       "dtype: object"
      ]
     },
     "execution_count": 110,
     "metadata": {},
     "output_type": "execute_result"
    }
   ],
   "source": [
    "data.dtypes"
   ]
  },
  {
   "cell_type": "markdown",
   "id": "5b54b7cd",
   "metadata": {},
   "source": [
    "**Data statistics**"
   ]
  },
  {
   "cell_type": "code",
   "execution_count": 111,
   "id": "c30ebdbe",
   "metadata": {},
   "outputs": [
    {
     "data": {
      "text/html": [
       "<div>\n",
       "<style scoped>\n",
       "    .dataframe tbody tr th:only-of-type {\n",
       "        vertical-align: middle;\n",
       "    }\n",
       "\n",
       "    .dataframe tbody tr th {\n",
       "        vertical-align: top;\n",
       "    }\n",
       "\n",
       "    .dataframe thead th {\n",
       "        text-align: right;\n",
       "    }\n",
       "</style>\n",
       "<table border=\"1\" class=\"dataframe\">\n",
       "  <thead>\n",
       "    <tr style=\"text-align: right;\">\n",
       "      <th></th>\n",
       "      <th>count</th>\n",
       "      <th>mean</th>\n",
       "      <th>std</th>\n",
       "      <th>min</th>\n",
       "      <th>25%</th>\n",
       "      <th>50%</th>\n",
       "      <th>75%</th>\n",
       "      <th>max</th>\n",
       "    </tr>\n",
       "  </thead>\n",
       "  <tbody>\n",
       "    <tr>\n",
       "      <th>Product_ID</th>\n",
       "      <td>23486.0</td>\n",
       "      <td>918.118709</td>\n",
       "      <td>203.298980</td>\n",
       "      <td>0.0</td>\n",
       "      <td>861.0</td>\n",
       "      <td>936.0</td>\n",
       "      <td>1078.0</td>\n",
       "      <td>1205.0</td>\n",
       "    </tr>\n",
       "    <tr>\n",
       "      <th>Age</th>\n",
       "      <td>23486.0</td>\n",
       "      <td>43.198544</td>\n",
       "      <td>12.279544</td>\n",
       "      <td>18.0</td>\n",
       "      <td>34.0</td>\n",
       "      <td>41.0</td>\n",
       "      <td>52.0</td>\n",
       "      <td>99.0</td>\n",
       "    </tr>\n",
       "    <tr>\n",
       "      <th>Rating</th>\n",
       "      <td>23486.0</td>\n",
       "      <td>4.196032</td>\n",
       "      <td>1.110031</td>\n",
       "      <td>1.0</td>\n",
       "      <td>4.0</td>\n",
       "      <td>5.0</td>\n",
       "      <td>5.0</td>\n",
       "      <td>5.0</td>\n",
       "    </tr>\n",
       "  </tbody>\n",
       "</table>\n",
       "</div>"
      ],
      "text/plain": [
       "              count        mean         std   min    25%    50%     75%  \\\n",
       "Product_ID  23486.0  918.118709  203.298980   0.0  861.0  936.0  1078.0   \n",
       "Age         23486.0   43.198544   12.279544  18.0   34.0   41.0    52.0   \n",
       "Rating      23486.0    4.196032    1.110031   1.0    4.0    5.0     5.0   \n",
       "\n",
       "               max  \n",
       "Product_ID  1205.0  \n",
       "Age           99.0  \n",
       "Rating         5.0  "
      ]
     },
     "execution_count": 111,
     "metadata": {},
     "output_type": "execute_result"
    }
   ],
   "source": [
    "data.describe().T"
   ]
  },
  {
   "cell_type": "markdown",
   "id": "016b7e3b",
   "metadata": {},
   "source": [
    "**Duplicate entries**"
   ]
  },
  {
   "cell_type": "code",
   "execution_count": 112,
   "id": "5991ec08",
   "metadata": {},
   "outputs": [
    {
     "name": "stdout",
     "output_type": "stream",
     "text": [
      "Number of all duplicate entries: 94 rows\n"
     ]
    }
   ],
   "source": [
    "# calculating all instances of duplicate entries\n",
    "all_dups = data[data.duplicated(keep=False)]\n",
    "print(\"Number of all duplicate entries: {} rows\".format(*all_dups.shape))"
   ]
  },
  {
   "cell_type": "code",
   "execution_count": 113,
   "id": "ff74b634",
   "metadata": {},
   "outputs": [
    {
     "data": {
      "text/html": [
       "<div>\n",
       "<style scoped>\n",
       "    .dataframe tbody tr th:only-of-type {\n",
       "        vertical-align: middle;\n",
       "    }\n",
       "\n",
       "    .dataframe tbody tr th {\n",
       "        vertical-align: top;\n",
       "    }\n",
       "\n",
       "    .dataframe thead th {\n",
       "        text-align: right;\n",
       "    }\n",
       "</style>\n",
       "<table border=\"1\" class=\"dataframe\">\n",
       "  <thead>\n",
       "    <tr style=\"text-align: right;\">\n",
       "      <th></th>\n",
       "      <th>Product_ID</th>\n",
       "      <th>Age</th>\n",
       "      <th>Title</th>\n",
       "      <th>Text_Review</th>\n",
       "      <th>Rating</th>\n",
       "      <th>Type</th>\n",
       "    </tr>\n",
       "  </thead>\n",
       "  <tbody>\n",
       "    <tr>\n",
       "      <th>9447</th>\n",
       "      <td>1022</td>\n",
       "      <td>37</td>\n",
       "      <td>NaN</td>\n",
       "      <td>Love, love these jeans. being short they come ...</td>\n",
       "      <td>5</td>\n",
       "      <td>Bottoms</td>\n",
       "    </tr>\n",
       "    <tr>\n",
       "      <th>21888</th>\n",
       "      <td>1022</td>\n",
       "      <td>37</td>\n",
       "      <td>NaN</td>\n",
       "      <td>Love, love these jeans. being short they come ...</td>\n",
       "      <td>5</td>\n",
       "      <td>Bottoms</td>\n",
       "    </tr>\n",
       "  </tbody>\n",
       "</table>\n",
       "</div>"
      ],
      "text/plain": [
       "       Product_ID  Age Title  \\\n",
       "9447         1022   37   NaN   \n",
       "21888        1022   37   NaN   \n",
       "\n",
       "                                             Text_Review  Rating     Type  \n",
       "9447   Love, love these jeans. being short they come ...       5  Bottoms  \n",
       "21888  Love, love these jeans. being short they come ...       5  Bottoms  "
      ]
     },
     "execution_count": 113,
     "metadata": {},
     "output_type": "execute_result"
    }
   ],
   "source": [
    "# an example of duplicate entry\n",
    "all_dups[all_dups['Product_ID']==1022]"
   ]
  },
  {
   "cell_type": "code",
   "execution_count": 114,
   "id": "61317351",
   "metadata": {},
   "outputs": [
    {
     "name": "stdout",
     "output_type": "stream",
     "text": [
      "Total number of duplicate entries (ignoring first instance): 50 rows\n"
     ]
    }
   ],
   "source": [
    "# considering only the first instance of the data as valid and counting further instances as duplicates\n",
    "tot_dups = data[data.duplicated(keep='first')]\n",
    "print(\"Total number of duplicate entries (ignoring first instance): {} rows\".format(*tot_dups.shape))"
   ]
  },
  {
   "cell_type": "code",
   "execution_count": 115,
   "id": "efeb18e7",
   "metadata": {},
   "outputs": [
    {
     "data": {
      "text/html": [
       "<div>\n",
       "<style scoped>\n",
       "    .dataframe tbody tr th:only-of-type {\n",
       "        vertical-align: middle;\n",
       "    }\n",
       "\n",
       "    .dataframe tbody tr th {\n",
       "        vertical-align: top;\n",
       "    }\n",
       "\n",
       "    .dataframe thead th {\n",
       "        text-align: right;\n",
       "    }\n",
       "</style>\n",
       "<table border=\"1\" class=\"dataframe\">\n",
       "  <thead>\n",
       "    <tr style=\"text-align: right;\">\n",
       "      <th></th>\n",
       "      <th>Product_ID</th>\n",
       "      <th>Age</th>\n",
       "      <th>Title</th>\n",
       "      <th>Text_Review</th>\n",
       "      <th>Rating</th>\n",
       "      <th>Type</th>\n",
       "    </tr>\n",
       "  </thead>\n",
       "  <tbody>\n",
       "    <tr>\n",
       "      <th>0</th>\n",
       "      <td>767</td>\n",
       "      <td>33</td>\n",
       "      <td>NaN</td>\n",
       "      <td>Absolutely wonderful - silky and sexy and comf...</td>\n",
       "      <td>4</td>\n",
       "      <td>Intimate</td>\n",
       "    </tr>\n",
       "    <tr>\n",
       "      <th>1</th>\n",
       "      <td>1080</td>\n",
       "      <td>34</td>\n",
       "      <td>NaN</td>\n",
       "      <td>Love this dress!  it's sooo pretty.  i happene...</td>\n",
       "      <td>5</td>\n",
       "      <td>Dresses</td>\n",
       "    </tr>\n",
       "    <tr>\n",
       "      <th>2</th>\n",
       "      <td>1077</td>\n",
       "      <td>60</td>\n",
       "      <td>Some major design flaws</td>\n",
       "      <td>I had such high hopes for this dress and reall...</td>\n",
       "      <td>3</td>\n",
       "      <td>Dresses</td>\n",
       "    </tr>\n",
       "    <tr>\n",
       "      <th>3</th>\n",
       "      <td>1049</td>\n",
       "      <td>50</td>\n",
       "      <td>My favorite buy!</td>\n",
       "      <td>I love, love, love this jumpsuit. it's fun, fl...</td>\n",
       "      <td>5</td>\n",
       "      <td>Bottoms</td>\n",
       "    </tr>\n",
       "    <tr>\n",
       "      <th>4</th>\n",
       "      <td>847</td>\n",
       "      <td>47</td>\n",
       "      <td>Flattering shirt</td>\n",
       "      <td>This shirt is very flattering to all due to th...</td>\n",
       "      <td>5</td>\n",
       "      <td>Tops</td>\n",
       "    </tr>\n",
       "    <tr>\n",
       "      <th>...</th>\n",
       "      <td>...</td>\n",
       "      <td>...</td>\n",
       "      <td>...</td>\n",
       "      <td>...</td>\n",
       "      <td>...</td>\n",
       "      <td>...</td>\n",
       "    </tr>\n",
       "    <tr>\n",
       "      <th>23481</th>\n",
       "      <td>1104</td>\n",
       "      <td>34</td>\n",
       "      <td>Great dress for many occasions</td>\n",
       "      <td>I was very happy to snag this dress at such a ...</td>\n",
       "      <td>5</td>\n",
       "      <td>Dresses</td>\n",
       "    </tr>\n",
       "    <tr>\n",
       "      <th>23482</th>\n",
       "      <td>862</td>\n",
       "      <td>48</td>\n",
       "      <td>Wish it was made of cotton</td>\n",
       "      <td>It reminds me of maternity clothes. soft, stre...</td>\n",
       "      <td>3</td>\n",
       "      <td>Tops</td>\n",
       "    </tr>\n",
       "    <tr>\n",
       "      <th>23483</th>\n",
       "      <td>1104</td>\n",
       "      <td>31</td>\n",
       "      <td>Cute, but see through</td>\n",
       "      <td>This fit well, but the top was very see throug...</td>\n",
       "      <td>3</td>\n",
       "      <td>Dresses</td>\n",
       "    </tr>\n",
       "    <tr>\n",
       "      <th>23484</th>\n",
       "      <td>1084</td>\n",
       "      <td>28</td>\n",
       "      <td>Very cute dress, perfect for summer parties an...</td>\n",
       "      <td>I bought this dress for a wedding i have this ...</td>\n",
       "      <td>3</td>\n",
       "      <td>Dresses</td>\n",
       "    </tr>\n",
       "    <tr>\n",
       "      <th>23485</th>\n",
       "      <td>1104</td>\n",
       "      <td>52</td>\n",
       "      <td>Please make more like this one!</td>\n",
       "      <td>This dress in a lovely platinum is feminine an...</td>\n",
       "      <td>5</td>\n",
       "      <td>Dresses</td>\n",
       "    </tr>\n",
       "  </tbody>\n",
       "</table>\n",
       "<p>23436 rows × 6 columns</p>\n",
       "</div>"
      ],
      "text/plain": [
       "       Product_ID  Age                                              Title  \\\n",
       "0             767   33                                                NaN   \n",
       "1            1080   34                                                NaN   \n",
       "2            1077   60                            Some major design flaws   \n",
       "3            1049   50                                   My favorite buy!   \n",
       "4             847   47                                   Flattering shirt   \n",
       "...           ...  ...                                                ...   \n",
       "23481        1104   34                     Great dress for many occasions   \n",
       "23482         862   48                         Wish it was made of cotton   \n",
       "23483        1104   31                              Cute, but see through   \n",
       "23484        1084   28  Very cute dress, perfect for summer parties an...   \n",
       "23485        1104   52                    Please make more like this one!   \n",
       "\n",
       "                                             Text_Review  Rating      Type  \n",
       "0      Absolutely wonderful - silky and sexy and comf...       4  Intimate  \n",
       "1      Love this dress!  it's sooo pretty.  i happene...       5   Dresses  \n",
       "2      I had such high hopes for this dress and reall...       3   Dresses  \n",
       "3      I love, love, love this jumpsuit. it's fun, fl...       5   Bottoms  \n",
       "4      This shirt is very flattering to all due to th...       5      Tops  \n",
       "...                                                  ...     ...       ...  \n",
       "23481  I was very happy to snag this dress at such a ...       5   Dresses  \n",
       "23482  It reminds me of maternity clothes. soft, stre...       3      Tops  \n",
       "23483  This fit well, but the top was very see throug...       3   Dresses  \n",
       "23484  I bought this dress for a wedding i have this ...       3   Dresses  \n",
       "23485  This dress in a lovely platinum is feminine an...       5   Dresses  \n",
       "\n",
       "[23436 rows x 6 columns]"
      ]
     },
     "execution_count": 115,
     "metadata": {},
     "output_type": "execute_result"
    }
   ],
   "source": [
    "# Removing duplicate entries\n",
    "df = data.drop_duplicates()\n",
    "df"
   ]
  },
  {
   "cell_type": "code",
   "execution_count": 116,
   "id": "ee0f997c",
   "metadata": {},
   "outputs": [
    {
     "data": {
      "text/html": [
       "<div>\n",
       "<style scoped>\n",
       "    .dataframe tbody tr th:only-of-type {\n",
       "        vertical-align: middle;\n",
       "    }\n",
       "\n",
       "    .dataframe tbody tr th {\n",
       "        vertical-align: top;\n",
       "    }\n",
       "\n",
       "    .dataframe thead th {\n",
       "        text-align: right;\n",
       "    }\n",
       "</style>\n",
       "<table border=\"1\" class=\"dataframe\">\n",
       "  <thead>\n",
       "    <tr style=\"text-align: right;\">\n",
       "      <th></th>\n",
       "      <th>Product_ID</th>\n",
       "      <th>Age</th>\n",
       "      <th>Title</th>\n",
       "      <th>Text_Review</th>\n",
       "      <th>Rating</th>\n",
       "      <th>Type</th>\n",
       "    </tr>\n",
       "  </thead>\n",
       "  <tbody>\n",
       "  </tbody>\n",
       "</table>\n",
       "</div>"
      ],
      "text/plain": [
       "Empty DataFrame\n",
       "Columns: [Product_ID, Age, Title, Text_Review, Rating, Type]\n",
       "Index: []"
      ]
     },
     "execution_count": 116,
     "metadata": {},
     "output_type": "execute_result"
    }
   ],
   "source": [
    "# Checking for any more duplicate entries\n",
    "df[df.duplicated(keep=False)]"
   ]
  },
  {
   "cell_type": "code",
   "execution_count": 117,
   "id": "565e1fe2",
   "metadata": {},
   "outputs": [
    {
     "name": "stdout",
     "output_type": "stream",
     "text": [
      "Dimensions of the data without duplicates: 23436 rows and 6 columns\n"
     ]
    }
   ],
   "source": [
    "print(f\"Dimensions of the data without duplicates: {df.shape[0]} rows and {df.shape[1]} columns\")"
   ]
  },
  {
   "cell_type": "markdown",
   "id": "2a267de6",
   "metadata": {},
   "source": [
    "**Analyzing missing and unique values within different attributes**"
   ]
  },
  {
   "cell_type": "code",
   "execution_count": 118,
   "id": "66bc13ab",
   "metadata": {},
   "outputs": [
    {
     "data": {
      "text/html": [
       "<div>\n",
       "<style scoped>\n",
       "    .dataframe tbody tr th:only-of-type {\n",
       "        vertical-align: middle;\n",
       "    }\n",
       "\n",
       "    .dataframe tbody tr th {\n",
       "        vertical-align: top;\n",
       "    }\n",
       "\n",
       "    .dataframe thead th {\n",
       "        text-align: right;\n",
       "    }\n",
       "</style>\n",
       "<table border=\"1\" class=\"dataframe\">\n",
       "  <thead>\n",
       "    <tr style=\"text-align: right;\">\n",
       "      <th></th>\n",
       "      <th>Product_ID</th>\n",
       "      <th>Age</th>\n",
       "      <th>Title</th>\n",
       "      <th>Text_Review</th>\n",
       "      <th>Rating</th>\n",
       "      <th>Type</th>\n",
       "    </tr>\n",
       "  </thead>\n",
       "  <tbody>\n",
       "    <tr>\n",
       "      <th>Missing_Count</th>\n",
       "      <td>0</td>\n",
       "      <td>0</td>\n",
       "      <td>3760</td>\n",
       "      <td>796</td>\n",
       "      <td>0</td>\n",
       "      <td>14</td>\n",
       "    </tr>\n",
       "  </tbody>\n",
       "</table>\n",
       "</div>"
      ],
      "text/plain": [
       "               Product_ID  Age  Title  Text_Review  Rating  Type\n",
       "Missing_Count           0    0   3760          796       0    14"
      ]
     },
     "execution_count": 118,
     "metadata": {},
     "output_type": "execute_result"
    }
   ],
   "source": [
    "# Missing entries per attribute\n",
    "pd.DataFrame(df.isna().sum(), columns=['Missing_Count']).T"
   ]
  },
  {
   "cell_type": "code",
   "execution_count": 119,
   "id": "7559557d",
   "metadata": {},
   "outputs": [
    {
     "data": {
      "text/html": [
       "<div>\n",
       "<style scoped>\n",
       "    .dataframe tbody tr th:only-of-type {\n",
       "        vertical-align: middle;\n",
       "    }\n",
       "\n",
       "    .dataframe tbody tr th {\n",
       "        vertical-align: top;\n",
       "    }\n",
       "\n",
       "    .dataframe thead th {\n",
       "        text-align: right;\n",
       "    }\n",
       "</style>\n",
       "<table border=\"1\" class=\"dataframe\">\n",
       "  <thead>\n",
       "    <tr style=\"text-align: right;\">\n",
       "      <th></th>\n",
       "      <th>Product_ID</th>\n",
       "      <th>Age</th>\n",
       "      <th>Title</th>\n",
       "      <th>Text_Review</th>\n",
       "      <th>Rating</th>\n",
       "      <th>Type</th>\n",
       "    </tr>\n",
       "  </thead>\n",
       "  <tbody>\n",
       "    <tr>\n",
       "      <th>Unique_Count</th>\n",
       "      <td>1206</td>\n",
       "      <td>77</td>\n",
       "      <td>13993</td>\n",
       "      <td>22634</td>\n",
       "      <td>5</td>\n",
       "      <td>6</td>\n",
       "    </tr>\n",
       "  </tbody>\n",
       "</table>\n",
       "</div>"
      ],
      "text/plain": [
       "              Product_ID  Age  Title  Text_Review  Rating  Type\n",
       "Unique_Count        1206   77  13993        22634       5     6"
      ]
     },
     "execution_count": 119,
     "metadata": {},
     "output_type": "execute_result"
    }
   ],
   "source": [
    "# Unique entries per attribute\n",
    "pd.DataFrame(list({col: df[col].nunique() for col in df.columns}.items()), columns=['','Unique_Count']).set_index('').T"
   ]
  },
  {
   "cell_type": "markdown",
   "id": "992c2831",
   "metadata": {},
   "source": [
    "Deleting entries with missing Text_Review"
   ]
  },
  {
   "cell_type": "code",
   "execution_count": 120,
   "id": "58462767",
   "metadata": {},
   "outputs": [],
   "source": [
    "df = df.dropna(subset=['Text_Review'])"
   ]
  },
  {
   "cell_type": "code",
   "execution_count": 121,
   "id": "78d82640",
   "metadata": {},
   "outputs": [
    {
     "data": {
      "text/plain": [
       "Product_ID        0\n",
       "Age               0\n",
       "Title          2965\n",
       "Text_Review       0\n",
       "Rating            0\n",
       "Type             13\n",
       "dtype: int64"
      ]
     },
     "execution_count": 121,
     "metadata": {},
     "output_type": "execute_result"
    }
   ],
   "source": [
    "df.isna().sum()"
   ]
  },
  {
   "cell_type": "markdown",
   "id": "765073bf",
   "metadata": {},
   "source": [
    "***Analyzing the data with respect to the different attributes***"
   ]
  },
  {
   "cell_type": "markdown",
   "id": "5850d18b",
   "metadata": {},
   "source": [
    "**Age**"
   ]
  },
  {
   "cell_type": "code",
   "execution_count": 228,
   "id": "9f4d4f79",
   "metadata": {},
   "outputs": [
    {
     "data": {
      "text/plain": [
       "count    22640.000000\n",
       "mean        43.280654\n",
       "std         12.327181\n",
       "min         18.000000\n",
       "25%         34.000000\n",
       "50%         41.000000\n",
       "75%         52.000000\n",
       "max         99.000000\n",
       "Name: Age, dtype: float64"
      ]
     },
     "execution_count": 228,
     "metadata": {},
     "output_type": "execute_result"
    }
   ],
   "source": [
    "# Statistics of \"Age\"\n",
    "df['Age'].describe()"
   ]
  },
  {
   "cell_type": "markdown",
   "id": "f504d7a8",
   "metadata": {},
   "source": [
    "**Distribution of users' age**"
   ]
  },
  {
   "cell_type": "markdown",
   "id": "aaa8fb3a",
   "metadata": {},
   "source": [
    "In the appendix of the report the analysis done to obtain the optimal number of bins to plot the distribution of age can be found. As per Sturge's Rule the value was found to be 16. Since seaborn calculates the bin size as per the data inherently, seaborn was chosen to visualize the distribution of Age."
   ]
  },
  {
   "cell_type": "code",
   "execution_count": 269,
   "id": "daebd6de",
   "metadata": {},
   "outputs": [
    {
     "data": {
      "image/png": "[encoded data removed]",
      "text/plain": [
       "<Figure size 864x432 with 1 Axes>"
      ]
     },
     "metadata": {},
     "output_type": "display_data"
    }
   ],
   "source": [
    "plt.figure(figsize=(12, 6))\n",
    "sns.histplot(df.Age, kde=True, color='brown')\n",
    "plt.title(\"Age Distribution\")\n",
    "plt.ylabel(\"Density\")\n",
    "plt.xlabel(\"Age\")\n",
    "plt.show()"
   ]
  },
  {
   "cell_type": "markdown",
   "id": "53d5572d",
   "metadata": {},
   "source": [
    "Creating age buckets with respect to the age of reviewers"
   ]
  },
  {
   "cell_type": "markdown",
   "id": "422966e7",
   "metadata": {},
   "source": [
    "The following age buckets were chosen to ensure a relatively even distribution of 10 years except for the first (0-19) and last (80-100) buckets wherein the density is far less."
   ]
  },
  {
   "cell_type": "code",
   "execution_count": 125,
   "id": "99b1cba2",
   "metadata": {},
   "outputs": [],
   "source": [
    "# Defining the age buckets\n",
    "bins = [0, 20, 30, 40, 50, 60, 70, 80, 100]\n",
    "labels = ['0-19', '20-29', '30-39', '40-49', '50-59', '60-69', '70-79', '80-100']"
   ]
  },
  {
   "cell_type": "code",
   "execution_count": 126,
   "id": "159d2ca6",
   "metadata": {},
   "outputs": [],
   "source": [
    "# Creating a new column 'Age_Group' with the defined age buckets\n",
    "df.loc[:,'Age_Group'] = pd.cut(df['Age'], bins=bins, labels=labels, right=False, include_lowest=True)"
   ]
  },
  {
   "cell_type": "code",
   "execution_count": 127,
   "id": "fe491506",
   "metadata": {},
   "outputs": [
    {
     "data": {
      "text/plain": [
       "0"
      ]
     },
     "execution_count": 127,
     "metadata": {},
     "output_type": "execute_result"
    }
   ],
   "source": [
    "# checking if all the rows are populated\n",
    "df['Age_Group'].isna().sum()"
   ]
  },
  {
   "cell_type": "code",
   "execution_count": 131,
   "id": "d210d9ea",
   "metadata": {},
   "outputs": [
    {
     "data": {
      "text/plain": [
       "30-39     7345\n",
       "40-49     5903\n",
       "50-59     3834\n",
       "20-29     2795\n",
       "60-69     2256\n",
       "70-79      355\n",
       "80-100     108\n",
       "0-19        44\n",
       "Name: Age_Group, dtype: int64"
      ]
     },
     "execution_count": 131,
     "metadata": {},
     "output_type": "execute_result"
    }
   ],
   "source": [
    "# reviews per age groups\n",
    "df['Age_Group'].value_counts()"
   ]
  },
  {
   "cell_type": "code",
   "execution_count": 200,
   "id": "0a9b61af",
   "metadata": {},
   "outputs": [],
   "source": [
    "df.to_csv(\"Reviews_with_age_groups.csv\", index = False)"
   ]
  },
  {
   "cell_type": "code",
   "execution_count": 233,
   "id": "c081f377",
   "metadata": {},
   "outputs": [
    {
     "data": {
      "text/html": [
       "<div>\n",
       "<style scoped>\n",
       "    .dataframe tbody tr th:only-of-type {\n",
       "        vertical-align: middle;\n",
       "    }\n",
       "\n",
       "    .dataframe tbody tr th {\n",
       "        vertical-align: top;\n",
       "    }\n",
       "\n",
       "    .dataframe thead th {\n",
       "        text-align: right;\n",
       "    }\n",
       "</style>\n",
       "<table border=\"1\" class=\"dataframe\">\n",
       "  <thead>\n",
       "    <tr style=\"text-align: right;\">\n",
       "      <th></th>\n",
       "      <th>count</th>\n",
       "      <th>mean</th>\n",
       "      <th>std</th>\n",
       "      <th>min</th>\n",
       "      <th>25%</th>\n",
       "      <th>50%</th>\n",
       "      <th>75%</th>\n",
       "      <th>max</th>\n",
       "    </tr>\n",
       "    <tr>\n",
       "      <th>Age_Group</th>\n",
       "      <th></th>\n",
       "      <th></th>\n",
       "      <th></th>\n",
       "      <th></th>\n",
       "      <th></th>\n",
       "      <th></th>\n",
       "      <th></th>\n",
       "      <th></th>\n",
       "    </tr>\n",
       "  </thead>\n",
       "  <tbody>\n",
       "    <tr>\n",
       "      <th>0-19</th>\n",
       "      <td>44.0</td>\n",
       "      <td>4.227273</td>\n",
       "      <td>0.911519</td>\n",
       "      <td>1.0</td>\n",
       "      <td>4.00</td>\n",
       "      <td>4.0</td>\n",
       "      <td>5.0</td>\n",
       "      <td>5.0</td>\n",
       "    </tr>\n",
       "    <tr>\n",
       "      <th>20-29</th>\n",
       "      <td>2795.0</td>\n",
       "      <td>4.192129</td>\n",
       "      <td>1.099526</td>\n",
       "      <td>1.0</td>\n",
       "      <td>4.00</td>\n",
       "      <td>5.0</td>\n",
       "      <td>5.0</td>\n",
       "      <td>5.0</td>\n",
       "    </tr>\n",
       "    <tr>\n",
       "      <th>30-39</th>\n",
       "      <td>7345.0</td>\n",
       "      <td>4.153165</td>\n",
       "      <td>1.122209</td>\n",
       "      <td>1.0</td>\n",
       "      <td>4.00</td>\n",
       "      <td>5.0</td>\n",
       "      <td>5.0</td>\n",
       "      <td>5.0</td>\n",
       "    </tr>\n",
       "    <tr>\n",
       "      <th>40-49</th>\n",
       "      <td>5903.0</td>\n",
       "      <td>4.141962</td>\n",
       "      <td>1.133800</td>\n",
       "      <td>1.0</td>\n",
       "      <td>4.00</td>\n",
       "      <td>5.0</td>\n",
       "      <td>5.0</td>\n",
       "      <td>5.0</td>\n",
       "    </tr>\n",
       "    <tr>\n",
       "      <th>50-59</th>\n",
       "      <td>3834.0</td>\n",
       "      <td>4.226395</td>\n",
       "      <td>1.102080</td>\n",
       "      <td>1.0</td>\n",
       "      <td>4.00</td>\n",
       "      <td>5.0</td>\n",
       "      <td>5.0</td>\n",
       "      <td>5.0</td>\n",
       "    </tr>\n",
       "    <tr>\n",
       "      <th>60-69</th>\n",
       "      <td>2256.0</td>\n",
       "      <td>4.292996</td>\n",
       "      <td>1.076524</td>\n",
       "      <td>1.0</td>\n",
       "      <td>4.00</td>\n",
       "      <td>5.0</td>\n",
       "      <td>5.0</td>\n",
       "      <td>5.0</td>\n",
       "    </tr>\n",
       "    <tr>\n",
       "      <th>70-79</th>\n",
       "      <td>355.0</td>\n",
       "      <td>4.183099</td>\n",
       "      <td>1.168197</td>\n",
       "      <td>1.0</td>\n",
       "      <td>4.00</td>\n",
       "      <td>5.0</td>\n",
       "      <td>5.0</td>\n",
       "      <td>5.0</td>\n",
       "    </tr>\n",
       "    <tr>\n",
       "      <th>80-100</th>\n",
       "      <td>108.0</td>\n",
       "      <td>4.472222</td>\n",
       "      <td>1.071799</td>\n",
       "      <td>1.0</td>\n",
       "      <td>4.75</td>\n",
       "      <td>5.0</td>\n",
       "      <td>5.0</td>\n",
       "      <td>5.0</td>\n",
       "    </tr>\n",
       "  </tbody>\n",
       "</table>\n",
       "</div>"
      ],
      "text/plain": [
       "            count      mean       std  min   25%  50%  75%  max\n",
       "Age_Group                                                      \n",
       "0-19         44.0  4.227273  0.911519  1.0  4.00  4.0  5.0  5.0\n",
       "20-29      2795.0  4.192129  1.099526  1.0  4.00  5.0  5.0  5.0\n",
       "30-39      7345.0  4.153165  1.122209  1.0  4.00  5.0  5.0  5.0\n",
       "40-49      5903.0  4.141962  1.133800  1.0  4.00  5.0  5.0  5.0\n",
       "50-59      3834.0  4.226395  1.102080  1.0  4.00  5.0  5.0  5.0\n",
       "60-69      2256.0  4.292996  1.076524  1.0  4.00  5.0  5.0  5.0\n",
       "70-79       355.0  4.183099  1.168197  1.0  4.00  5.0  5.0  5.0\n",
       "80-100      108.0  4.472222  1.071799  1.0  4.75  5.0  5.0  5.0"
      ]
     },
     "execution_count": 233,
     "metadata": {},
     "output_type": "execute_result"
    }
   ],
   "source": [
    "# statistics of rating with respect to age groups\n",
    "df.groupby('Age_Group')['Rating'].describe()"
   ]
  },
  {
   "cell_type": "markdown",
   "id": "8ab7a075",
   "metadata": {},
   "source": [
    "**Distribution of users per age group**"
   ]
  },
  {
   "cell_type": "code",
   "execution_count": 272,
   "id": "011eee46",
   "metadata": {},
   "outputs": [
    {
     "data": {
      "image/png": "[encoded data removed]",
      "text/plain": [
       "<Figure size 720x432 with 1 Axes>"
      ]
     },
     "metadata": {},
     "output_type": "display_data"
    }
   ],
   "source": [
    "plt.figure(figsize=(10,6))\n",
    "df['Age_Group'].value_counts().sort_index().plot(color='brown', kind = 'bar', alpha=0.7)\n",
    "plt.xlabel('Age Groups')\n",
    "plt.ylabel('Number of users per age group')\n",
    "plt.title('Age Group Distribution')\n",
    "plt.show()"
   ]
  },
  {
   "cell_type": "markdown",
   "id": "8f53fa5b",
   "metadata": {},
   "source": [
    "**Type**"
   ]
  },
  {
   "cell_type": "code",
   "execution_count": 226,
   "id": "10a778db",
   "metadata": {},
   "outputs": [
    {
     "data": {
      "text/html": [
       "<div>\n",
       "<style scoped>\n",
       "    .dataframe tbody tr th:only-of-type {\n",
       "        vertical-align: middle;\n",
       "    }\n",
       "\n",
       "    .dataframe tbody tr th {\n",
       "        vertical-align: top;\n",
       "    }\n",
       "\n",
       "    .dataframe thead th {\n",
       "        text-align: right;\n",
       "    }\n",
       "</style>\n",
       "<table border=\"1\" class=\"dataframe\">\n",
       "  <thead>\n",
       "    <tr style=\"text-align: right;\">\n",
       "      <th></th>\n",
       "      <th>Tops</th>\n",
       "      <th>Dresses</th>\n",
       "      <th>Bottoms</th>\n",
       "      <th>Intimate</th>\n",
       "      <th>Jackets</th>\n",
       "      <th>Trend</th>\n",
       "    </tr>\n",
       "  </thead>\n",
       "  <tbody>\n",
       "    <tr>\n",
       "      <th>Type</th>\n",
       "      <td>10048</td>\n",
       "      <td>6145</td>\n",
       "      <td>3661</td>\n",
       "      <td>1653</td>\n",
       "      <td>1002</td>\n",
       "      <td>118</td>\n",
       "    </tr>\n",
       "  </tbody>\n",
       "</table>\n",
       "</div>"
      ],
      "text/plain": [
       "       Tops  Dresses  Bottoms  Intimate  Jackets  Trend\n",
       "Type  10048     6145     3661      1653     1002    118"
      ]
     },
     "execution_count": 226,
     "metadata": {},
     "output_type": "execute_result"
    }
   ],
   "source": [
    "# Number of entries per unique values in \"Type\"\n",
    "pd.DataFrame(df['Type'].value_counts()).T"
   ]
  },
  {
   "cell_type": "markdown",
   "id": "c5a869c8",
   "metadata": {},
   "source": [
    "**Distribution of product types**"
   ]
  },
  {
   "cell_type": "code",
   "execution_count": 274,
   "id": "5f341e12",
   "metadata": {},
   "outputs": [
    {
     "data": {
      "image/png": "[encoded data removed]",
      "text/plain": [
       "<Figure size 720x432 with 1 Axes>"
      ]
     },
     "metadata": {},
     "output_type": "display_data"
    }
   ],
   "source": [
    "plt.figure(figsize=(10,6))\n",
    "df['Type'].value_counts().sort_index().plot(color='brown', kind = 'bar', alpha=0.7)\n",
    "plt.xlabel('Product Types')\n",
    "plt.ylabel('Number of products per type')\n",
    "plt.title('Product Type Distribution')\n",
    "plt.show()"
   ]
  },
  {
   "cell_type": "markdown",
   "id": "9ea3d5d4",
   "metadata": {},
   "source": [
    "**Rating**"
   ]
  },
  {
   "cell_type": "code",
   "execution_count": 227,
   "id": "ec7049df",
   "metadata": {},
   "outputs": [
    {
     "data": {
      "text/html": [
       "<div>\n",
       "<style scoped>\n",
       "    .dataframe tbody tr th:only-of-type {\n",
       "        vertical-align: middle;\n",
       "    }\n",
       "\n",
       "    .dataframe tbody tr th {\n",
       "        vertical-align: top;\n",
       "    }\n",
       "\n",
       "    .dataframe thead th {\n",
       "        text-align: right;\n",
       "    }\n",
       "</style>\n",
       "<table border=\"1\" class=\"dataframe\">\n",
       "  <thead>\n",
       "    <tr style=\"text-align: right;\">\n",
       "      <th></th>\n",
       "      <th>5</th>\n",
       "      <th>4</th>\n",
       "      <th>3</th>\n",
       "      <th>2</th>\n",
       "      <th>1</th>\n",
       "    </tr>\n",
       "  </thead>\n",
       "  <tbody>\n",
       "    <tr>\n",
       "      <th>Rating</th>\n",
       "      <td>12539</td>\n",
       "      <td>4908</td>\n",
       "      <td>2823</td>\n",
       "      <td>1549</td>\n",
       "      <td>821</td>\n",
       "    </tr>\n",
       "  </tbody>\n",
       "</table>\n",
       "</div>"
      ],
      "text/plain": [
       "            5     4     3     2    1\n",
       "Rating  12539  4908  2823  1549  821"
      ]
     },
     "execution_count": 227,
     "metadata": {},
     "output_type": "execute_result"
    }
   ],
   "source": [
    "# Number of entries per unique values in \"Rating\"\n",
    "pd.DataFrame(df['Rating'].value_counts()).T"
   ]
  },
  {
   "cell_type": "markdown",
   "id": "0e586f98",
   "metadata": {},
   "source": [
    "**Distribution of users' ratings**"
   ]
  },
  {
   "cell_type": "code",
   "execution_count": 273,
   "id": "64e81f3d",
   "metadata": {},
   "outputs": [
    {
     "data": {
      "image/png": "[encoded data removed]",
      "text/plain": [
       "<Figure size 720x432 with 1 Axes>"
      ]
     },
     "metadata": {},
     "output_type": "display_data"
    }
   ],
   "source": [
    "plt.figure(figsize=(10,6))\n",
    "df['Rating'].value_counts().sort_index().plot(color='brown', kind = 'bar', alpha=0.7)\n",
    "plt.xlabel('Rating')\n",
    "plt.ylabel('Number of Ratings')\n",
    "plt.title('Ratings Distribution')\n",
    "plt.show()"
   ]
  },
  {
   "cell_type": "markdown",
   "id": "40ca1446",
   "metadata": {},
   "source": [
    "**Top 10 product_ids with most reviews**"
   ]
  },
  {
   "cell_type": "code",
   "execution_count": 72,
   "id": "0290ee11",
   "metadata": {},
   "outputs": [
    {
     "data": {
      "text/plain": [
       "{1078: 987,\n",
       " 862: 778,\n",
       " 1094: 735,\n",
       " 1081: 561,\n",
       " 872: 519,\n",
       " 829: 512,\n",
       " 1110: 471,\n",
       " 868: 414,\n",
       " 895: 384,\n",
       " 936: 348}"
      ]
     },
     "execution_count": 72,
     "metadata": {},
     "output_type": "execute_result"
    }
   ],
   "source": [
    "prod_counts = {j[0]:j[1] for i,j in enumerate(df['Product_ID'].value_counts().items())}\n",
    "top_10 = dict(sorted(prod_counts.items(), key = lambda i: i[1], reverse=True)[:10])\n",
    "top_10"
   ]
  },
  {
   "cell_type": "code",
   "execution_count": 73,
   "id": "5a42da32",
   "metadata": {},
   "outputs": [
    {
     "data": {
      "text/html": [
       "<div>\n",
       "<style scoped>\n",
       "    .dataframe tbody tr th:only-of-type {\n",
       "        vertical-align: middle;\n",
       "    }\n",
       "\n",
       "    .dataframe tbody tr th {\n",
       "        vertical-align: top;\n",
       "    }\n",
       "\n",
       "    .dataframe thead th {\n",
       "        text-align: right;\n",
       "    }\n",
       "</style>\n",
       "<table border=\"1\" class=\"dataframe\">\n",
       "  <thead>\n",
       "    <tr style=\"text-align: right;\">\n",
       "      <th></th>\n",
       "      <th>Product_ID</th>\n",
       "      <th>Count</th>\n",
       "    </tr>\n",
       "  </thead>\n",
       "  <tbody>\n",
       "    <tr>\n",
       "      <th>0</th>\n",
       "      <td>1078</td>\n",
       "      <td>987</td>\n",
       "    </tr>\n",
       "    <tr>\n",
       "      <th>1</th>\n",
       "      <td>862</td>\n",
       "      <td>778</td>\n",
       "    </tr>\n",
       "    <tr>\n",
       "      <th>2</th>\n",
       "      <td>1094</td>\n",
       "      <td>735</td>\n",
       "    </tr>\n",
       "    <tr>\n",
       "      <th>3</th>\n",
       "      <td>1081</td>\n",
       "      <td>561</td>\n",
       "    </tr>\n",
       "    <tr>\n",
       "      <th>4</th>\n",
       "      <td>872</td>\n",
       "      <td>519</td>\n",
       "    </tr>\n",
       "    <tr>\n",
       "      <th>5</th>\n",
       "      <td>829</td>\n",
       "      <td>512</td>\n",
       "    </tr>\n",
       "    <tr>\n",
       "      <th>6</th>\n",
       "      <td>1110</td>\n",
       "      <td>471</td>\n",
       "    </tr>\n",
       "    <tr>\n",
       "      <th>7</th>\n",
       "      <td>868</td>\n",
       "      <td>414</td>\n",
       "    </tr>\n",
       "    <tr>\n",
       "      <th>8</th>\n",
       "      <td>895</td>\n",
       "      <td>384</td>\n",
       "    </tr>\n",
       "    <tr>\n",
       "      <th>9</th>\n",
       "      <td>936</td>\n",
       "      <td>348</td>\n",
       "    </tr>\n",
       "  </tbody>\n",
       "</table>\n",
       "</div>"
      ],
      "text/plain": [
       "   Product_ID  Count\n",
       "0        1078    987\n",
       "1         862    778\n",
       "2        1094    735\n",
       "3        1081    561\n",
       "4         872    519\n",
       "5         829    512\n",
       "6        1110    471\n",
       "7         868    414\n",
       "8         895    384\n",
       "9         936    348"
      ]
     },
     "execution_count": 73,
     "metadata": {},
     "output_type": "execute_result"
    }
   ],
   "source": [
    "pd.DataFrame(data = {'Product_ID' : top_10.keys(), 'Count': top_10.values()})"
   ]
  },
  {
   "cell_type": "markdown",
   "id": "95948e72",
   "metadata": {},
   "source": [
    "**5 most reviewed product_ids within each type**"
   ]
  },
  {
   "cell_type": "code",
   "execution_count": 193,
   "id": "e790bf02",
   "metadata": {},
   "outputs": [
    {
     "data": {
      "text/html": [
       "<div>\n",
       "<style scoped>\n",
       "    .dataframe tbody tr th:only-of-type {\n",
       "        vertical-align: middle;\n",
       "    }\n",
       "\n",
       "    .dataframe tbody tr th {\n",
       "        vertical-align: top;\n",
       "    }\n",
       "\n",
       "    .dataframe thead th {\n",
       "        text-align: right;\n",
       "    }\n",
       "</style>\n",
       "<table border=\"1\" class=\"dataframe\">\n",
       "  <thead>\n",
       "    <tr style=\"text-align: right;\">\n",
       "      <th></th>\n",
       "      <th></th>\n",
       "      <th>Count</th>\n",
       "    </tr>\n",
       "    <tr>\n",
       "      <th>Type</th>\n",
       "      <th>Product_ID</th>\n",
       "      <th></th>\n",
       "    </tr>\n",
       "  </thead>\n",
       "  <tbody>\n",
       "    <tr>\n",
       "      <th rowspan=\"5\" valign=\"top\">Bottoms</th>\n",
       "      <th>1059</th>\n",
       "      <td>287</td>\n",
       "    </tr>\n",
       "    <tr>\n",
       "      <th>1033</th>\n",
       "      <td>212</td>\n",
       "    </tr>\n",
       "    <tr>\n",
       "      <th>1056</th>\n",
       "      <td>206</td>\n",
       "    </tr>\n",
       "    <tr>\n",
       "      <th>1022</th>\n",
       "      <td>194</td>\n",
       "    </tr>\n",
       "    <tr>\n",
       "      <th>1008</th>\n",
       "      <td>180</td>\n",
       "    </tr>\n",
       "    <tr>\n",
       "      <th rowspan=\"5\" valign=\"top\">Dresses</th>\n",
       "      <th>1078</th>\n",
       "      <td>987</td>\n",
       "    </tr>\n",
       "    <tr>\n",
       "      <th>1094</th>\n",
       "      <td>735</td>\n",
       "    </tr>\n",
       "    <tr>\n",
       "      <th>1081</th>\n",
       "      <td>561</td>\n",
       "    </tr>\n",
       "    <tr>\n",
       "      <th>1110</th>\n",
       "      <td>471</td>\n",
       "    </tr>\n",
       "    <tr>\n",
       "      <th>1095</th>\n",
       "      <td>323</td>\n",
       "    </tr>\n",
       "    <tr>\n",
       "      <th rowspan=\"5\" valign=\"top\">Intimate</th>\n",
       "      <th>169</th>\n",
       "      <td>32</td>\n",
       "    </tr>\n",
       "    <tr>\n",
       "      <th>520</th>\n",
       "      <td>29</td>\n",
       "    </tr>\n",
       "    <tr>\n",
       "      <th>375</th>\n",
       "      <td>19</td>\n",
       "    </tr>\n",
       "    <tr>\n",
       "      <th>774</th>\n",
       "      <td>18</td>\n",
       "    </tr>\n",
       "    <tr>\n",
       "      <th>194</th>\n",
       "      <td>16</td>\n",
       "    </tr>\n",
       "    <tr>\n",
       "      <th rowspan=\"5\" valign=\"top\">Jackets</th>\n",
       "      <th>984</th>\n",
       "      <td>166</td>\n",
       "    </tr>\n",
       "    <tr>\n",
       "      <th>975</th>\n",
       "      <td>113</td>\n",
       "    </tr>\n",
       "    <tr>\n",
       "      <th>964</th>\n",
       "      <td>73</td>\n",
       "    </tr>\n",
       "    <tr>\n",
       "      <th>974</th>\n",
       "      <td>49</td>\n",
       "    </tr>\n",
       "    <tr>\n",
       "      <th>1121</th>\n",
       "      <td>48</td>\n",
       "    </tr>\n",
       "    <tr>\n",
       "      <th rowspan=\"5\" valign=\"top\">Tops</th>\n",
       "      <th>862</th>\n",
       "      <td>778</td>\n",
       "    </tr>\n",
       "    <tr>\n",
       "      <th>872</th>\n",
       "      <td>519</td>\n",
       "    </tr>\n",
       "    <tr>\n",
       "      <th>829</th>\n",
       "      <td>512</td>\n",
       "    </tr>\n",
       "    <tr>\n",
       "      <th>868</th>\n",
       "      <td>414</td>\n",
       "    </tr>\n",
       "    <tr>\n",
       "      <th>895</th>\n",
       "      <td>384</td>\n",
       "    </tr>\n",
       "    <tr>\n",
       "      <th rowspan=\"5\" valign=\"top\">Trend</th>\n",
       "      <th>573</th>\n",
       "      <td>10</td>\n",
       "    </tr>\n",
       "    <tr>\n",
       "      <th>1135</th>\n",
       "      <td>10</td>\n",
       "    </tr>\n",
       "    <tr>\n",
       "      <th>1146</th>\n",
       "      <td>10</td>\n",
       "    </tr>\n",
       "    <tr>\n",
       "      <th>1147</th>\n",
       "      <td>10</td>\n",
       "    </tr>\n",
       "    <tr>\n",
       "      <th>1145</th>\n",
       "      <td>9</td>\n",
       "    </tr>\n",
       "  </tbody>\n",
       "</table>\n",
       "</div>"
      ],
      "text/plain": [
       "                     Count\n",
       "Type     Product_ID       \n",
       "Bottoms  1059          287\n",
       "         1033          212\n",
       "         1056          206\n",
       "         1022          194\n",
       "         1008          180\n",
       "Dresses  1078          987\n",
       "         1094          735\n",
       "         1081          561\n",
       "         1110          471\n",
       "         1095          323\n",
       "Intimate 169            32\n",
       "         520            29\n",
       "         375            19\n",
       "         774            18\n",
       "         194            16\n",
       "Jackets  984           166\n",
       "         975           113\n",
       "         964            73\n",
       "         974            49\n",
       "         1121           48\n",
       "Tops     862           778\n",
       "         872           519\n",
       "         829           512\n",
       "         868           414\n",
       "         895           384\n",
       "Trend    573            10\n",
       "         1135           10\n",
       "         1146           10\n",
       "         1147           10\n",
       "         1145            9"
      ]
     },
     "execution_count": 193,
     "metadata": {},
     "output_type": "execute_result"
    }
   ],
   "source": [
    "pd.DataFrame(df.groupby(['Type'])['Product_ID'].value_counts().rename('Count').groupby('Type').nlargest(5).reset_index(level=1, drop=True))"
   ]
  },
  {
   "cell_type": "code",
   "execution_count": 194,
   "id": "a3794f39",
   "metadata": {},
   "outputs": [],
   "source": [
    "d2 = {\n",
    "    'Type': ['Bottoms', 'Bottoms', 'Bottoms', 'Bottoms', 'Bottoms', \n",
    "             'Dresses', 'Dresses', 'Dresses', 'Dresses', 'Dresses', \n",
    "             'Intimate', 'Intimate', 'Intimate', 'Intimate', 'Intimate', \n",
    "             'Jackets', 'Jackets', 'Jackets', 'Jackets', 'Jackets', \n",
    "             'Tops', 'Tops', 'Tops', 'Tops', 'Tops', \n",
    "             'Trend', 'Trend', 'Trend', 'Trend', 'Trend'],\n",
    "    'Product_ID': [1059, 1033, 1056, 1022, 1008, \n",
    "                   1078, 1094, 1081, 1110, 1095, \n",
    "                   169, 520, 375, 774, 194, \n",
    "                   984, 975, 964, 974, 1121, \n",
    "                   862, 872, 829, 868, 895, \n",
    "                   573, 1135, 1146, 1147, 1145],\n",
    "    'Count': [287, 212, 206, 194, 180, \n",
    "              987, 735, 561, 471, 323, \n",
    "              32, 29, 19, 18, 16, \n",
    "              166, 113, 73, 49, 48, \n",
    "              778, 519, 512, 414, 384, \n",
    "              10, 10, 10, 10, 9]\n",
    "}"
   ]
  },
  {
   "cell_type": "code",
   "execution_count": 195,
   "id": "c2353a8f",
   "metadata": {},
   "outputs": [],
   "source": [
    "d2 = pd.DataFrame(d2)"
   ]
  },
  {
   "cell_type": "code",
   "execution_count": 196,
   "id": "c8983a0a",
   "metadata": {},
   "outputs": [
    {
     "data": {
      "image/png": "[encoded data removed]",
      "text/plain": [
       "<Figure size 720x864 with 1 Axes>"
      ]
     },
     "metadata": {
      "needs_background": "light"
     },
     "output_type": "display_data"
    }
   ],
   "source": [
    "fig, ax = plt.subplots(figsize=(10, 12))\n",
    "\n",
    "for i, (type_name, group) in enumerate(d2.groupby('Type')):\n",
    "    ax.barh(y=group['Product_ID'].astype(str), width=group['Count'], label=type_name)\n",
    "\n",
    "ax.set_xlabel('Count')\n",
    "ax.set_ylabel('Product ID')\n",
    "ax.set_title('Top 5 Products in Each Type')\n",
    "ax.legend(title='Type')\n",
    "\n",
    "ax.invert_yaxis()\n",
    "\n",
    "plt.tight_layout()\n",
    "plt.show()"
   ]
  },
  {
   "cell_type": "markdown",
   "id": "7eb8afe9",
   "metadata": {},
   "source": [
    "**Ratings by product type**"
   ]
  },
  {
   "cell_type": "code",
   "execution_count": 197,
   "id": "79478111",
   "metadata": {},
   "outputs": [
    {
     "data": {
      "text/html": [
       "<div>\n",
       "<style scoped>\n",
       "    .dataframe tbody tr th:only-of-type {\n",
       "        vertical-align: middle;\n",
       "    }\n",
       "\n",
       "    .dataframe tbody tr th {\n",
       "        vertical-align: top;\n",
       "    }\n",
       "\n",
       "    .dataframe thead th {\n",
       "        text-align: right;\n",
       "    }\n",
       "</style>\n",
       "<table border=\"1\" class=\"dataframe\">\n",
       "  <thead>\n",
       "    <tr style=\"text-align: right;\">\n",
       "      <th>Rating</th>\n",
       "      <th>1</th>\n",
       "      <th>2</th>\n",
       "      <th>3</th>\n",
       "      <th>4</th>\n",
       "      <th>5</th>\n",
       "    </tr>\n",
       "    <tr>\n",
       "      <th>Type</th>\n",
       "      <th></th>\n",
       "      <th></th>\n",
       "      <th></th>\n",
       "      <th></th>\n",
       "      <th></th>\n",
       "    </tr>\n",
       "  </thead>\n",
       "  <tbody>\n",
       "    <tr>\n",
       "      <th>Bottoms</th>\n",
       "      <td>114</td>\n",
       "      <td>203</td>\n",
       "      <td>407</td>\n",
       "      <td>762</td>\n",
       "      <td>2175</td>\n",
       "    </tr>\n",
       "    <tr>\n",
       "      <th>Dresses</th>\n",
       "      <td>222</td>\n",
       "      <td>459</td>\n",
       "      <td>830</td>\n",
       "      <td>1367</td>\n",
       "      <td>3267</td>\n",
       "    </tr>\n",
       "    <tr>\n",
       "      <th>Intimate</th>\n",
       "      <td>60</td>\n",
       "      <td>87</td>\n",
       "      <td>177</td>\n",
       "      <td>350</td>\n",
       "      <td>979</td>\n",
       "    </tr>\n",
       "    <tr>\n",
       "      <th>Jackets</th>\n",
       "      <td>48</td>\n",
       "      <td>60</td>\n",
       "      <td>90</td>\n",
       "      <td>195</td>\n",
       "      <td>609</td>\n",
       "    </tr>\n",
       "    <tr>\n",
       "      <th>Tops</th>\n",
       "      <td>367</td>\n",
       "      <td>729</td>\n",
       "      <td>1300</td>\n",
       "      <td>2208</td>\n",
       "      <td>5444</td>\n",
       "    </tr>\n",
       "    <tr>\n",
       "      <th>Trend</th>\n",
       "      <td>10</td>\n",
       "      <td>11</td>\n",
       "      <td>19</td>\n",
       "      <td>26</td>\n",
       "      <td>52</td>\n",
       "    </tr>\n",
       "  </tbody>\n",
       "</table>\n",
       "</div>"
      ],
      "text/plain": [
       "Rating      1    2     3     4     5\n",
       "Type                                \n",
       "Bottoms   114  203   407   762  2175\n",
       "Dresses   222  459   830  1367  3267\n",
       "Intimate   60   87   177   350   979\n",
       "Jackets    48   60    90   195   609\n",
       "Tops      367  729  1300  2208  5444\n",
       "Trend      10   11    19    26    52"
      ]
     },
     "execution_count": 197,
     "metadata": {},
     "output_type": "execute_result"
    }
   ],
   "source": [
    "df.groupby('Type')['Rating'].value_counts().unstack()"
   ]
  },
  {
   "cell_type": "code",
   "execution_count": 159,
   "id": "91935a6e",
   "metadata": {},
   "outputs": [
    {
     "data": {
      "text/html": [
       "<div>\n",
       "<style scoped>\n",
       "    .dataframe tbody tr th:only-of-type {\n",
       "        vertical-align: middle;\n",
       "    }\n",
       "\n",
       "    .dataframe tbody tr th {\n",
       "        vertical-align: top;\n",
       "    }\n",
       "\n",
       "    .dataframe thead th {\n",
       "        text-align: right;\n",
       "    }\n",
       "</style>\n",
       "<table border=\"1\" class=\"dataframe\">\n",
       "  <thead>\n",
       "    <tr style=\"text-align: right;\">\n",
       "      <th></th>\n",
       "      <th>Rating</th>\n",
       "    </tr>\n",
       "    <tr>\n",
       "      <th>Type</th>\n",
       "      <th></th>\n",
       "    </tr>\n",
       "  </thead>\n",
       "  <tbody>\n",
       "    <tr>\n",
       "      <th>Bottoms</th>\n",
       "      <td>4.278612</td>\n",
       "    </tr>\n",
       "    <tr>\n",
       "      <th>Dresses</th>\n",
       "      <td>4.138812</td>\n",
       "    </tr>\n",
       "    <tr>\n",
       "      <th>Intimate</th>\n",
       "      <td>4.271022</td>\n",
       "    </tr>\n",
       "    <tr>\n",
       "      <th>Jackets</th>\n",
       "      <td>4.254491</td>\n",
       "    </tr>\n",
       "    <tr>\n",
       "      <th>Tops</th>\n",
       "      <td>4.157743</td>\n",
       "    </tr>\n",
       "    <tr>\n",
       "      <th>Trend</th>\n",
       "      <td>3.838983</td>\n",
       "    </tr>\n",
       "  </tbody>\n",
       "</table>\n",
       "</div>"
      ],
      "text/plain": [
       "            Rating\n",
       "Type              \n",
       "Bottoms   4.278612\n",
       "Dresses   4.138812\n",
       "Intimate  4.271022\n",
       "Jackets   4.254491\n",
       "Tops      4.157743\n",
       "Trend     3.838983"
      ]
     },
     "execution_count": 159,
     "metadata": {},
     "output_type": "execute_result"
    }
   ],
   "source": [
    "pd.DataFrame(df.groupby('Type')['Rating'].mean())"
   ]
  },
  {
   "cell_type": "code",
   "execution_count": 158,
   "id": "800cc89b",
   "metadata": {},
   "outputs": [
    {
     "data": {
      "text/plain": [
       "Type\n",
       "Bottoms      3661\n",
       "Dresses      6145\n",
       "Intimate     1653\n",
       "Jackets      1002\n",
       "Tops        10048\n",
       "Trend         118\n",
       "Name: Rating, dtype: int64"
      ]
     },
     "execution_count": 158,
     "metadata": {},
     "output_type": "execute_result"
    }
   ],
   "source": [
    "df.groupby('Type')['Rating'].size()"
   ]
  },
  {
   "cell_type": "code",
   "execution_count": 9,
   "id": "d95a1065",
   "metadata": {},
   "outputs": [
    {
     "data": {
      "image/png": "[encoded data removed]",
      "text/plain": [
       "<Figure size 720x432 with 1 Axes>"
      ]
     },
     "metadata": {
      "needs_background": "light"
     },
     "output_type": "display_data"
    }
   ],
   "source": [
    "plt.figure(figsize=(10, 6))\n",
    "sns.boxplot(x='Rating', y='Type', data=df)\n",
    "plt.title('Distribution of Ratings Across Product Types (Box Plot)')\n",
    "plt.ylabel('Product Type')\n",
    "plt.xlabel('Rating')\n",
    "plt.show()"
   ]
  },
  {
   "cell_type": "code",
   "execution_count": 167,
   "id": "fcdd3dbf",
   "metadata": {},
   "outputs": [
    {
     "data": {
      "image/png": "[encoded data removed]",
      "text/plain": [
       "<Figure size 720x432 with 1 Axes>"
      ]
     },
     "metadata": {
      "needs_background": "light"
     },
     "output_type": "display_data"
    }
   ],
   "source": [
    "plt.figure(figsize=(10, 6))\n",
    "sns.boxplot(x='Rating', y='Type', data=df)\n",
    "mean_ratings = df.groupby('Type')['Rating'].mean()\n",
    "for i, mean_rating in enumerate(mean_ratings):\n",
    "    plt.plot(mean_rating, i, '|', color='black', markersize=8)\n",
    "plt.title('Distribution of Ratings Across Product Types (Box Plot)')\n",
    "plt.ylabel('Product Type')\n",
    "plt.xlabel('Rating')\n",
    "plt.show()"
   ]
  },
  {
   "cell_type": "code",
   "execution_count": 195,
   "id": "bfc772cd",
   "metadata": {},
   "outputs": [
    {
     "data": {
      "text/html": [
       "<div>\n",
       "<style scoped>\n",
       "    .dataframe tbody tr th:only-of-type {\n",
       "        vertical-align: middle;\n",
       "    }\n",
       "\n",
       "    .dataframe tbody tr th {\n",
       "        vertical-align: top;\n",
       "    }\n",
       "\n",
       "    .dataframe thead th {\n",
       "        text-align: right;\n",
       "    }\n",
       "</style>\n",
       "<table border=\"1\" class=\"dataframe\">\n",
       "  <thead>\n",
       "    <tr style=\"text-align: right;\">\n",
       "      <th>Rating</th>\n",
       "      <th>1</th>\n",
       "      <th>2</th>\n",
       "      <th>3</th>\n",
       "      <th>4</th>\n",
       "      <th>5</th>\n",
       "    </tr>\n",
       "    <tr>\n",
       "      <th>Type</th>\n",
       "      <th></th>\n",
       "      <th></th>\n",
       "      <th></th>\n",
       "      <th></th>\n",
       "      <th></th>\n",
       "    </tr>\n",
       "  </thead>\n",
       "  <tbody>\n",
       "    <tr>\n",
       "      <th>Bottoms</th>\n",
       "      <td>0.030287</td>\n",
       "      <td>0.053990</td>\n",
       "      <td>0.110877</td>\n",
       "      <td>0.206742</td>\n",
       "      <td>0.598104</td>\n",
       "    </tr>\n",
       "    <tr>\n",
       "      <th>Dresses</th>\n",
       "      <td>0.036179</td>\n",
       "      <td>0.073151</td>\n",
       "      <td>0.132974</td>\n",
       "      <td>0.221200</td>\n",
       "      <td>0.536496</td>\n",
       "    </tr>\n",
       "    <tr>\n",
       "      <th>Intimate</th>\n",
       "      <td>0.036311</td>\n",
       "      <td>0.051873</td>\n",
       "      <td>0.102594</td>\n",
       "      <td>0.213833</td>\n",
       "      <td>0.595389</td>\n",
       "    </tr>\n",
       "    <tr>\n",
       "      <th>Jackets</th>\n",
       "      <td>0.047481</td>\n",
       "      <td>0.058140</td>\n",
       "      <td>0.088178</td>\n",
       "      <td>0.194767</td>\n",
       "      <td>0.611434</td>\n",
       "    </tr>\n",
       "    <tr>\n",
       "      <th>Tops</th>\n",
       "      <td>0.036026</td>\n",
       "      <td>0.070710</td>\n",
       "      <td>0.126856</td>\n",
       "      <td>0.219987</td>\n",
       "      <td>0.546421</td>\n",
       "    </tr>\n",
       "    <tr>\n",
       "      <th>Trend</th>\n",
       "      <td>0.092437</td>\n",
       "      <td>0.092437</td>\n",
       "      <td>0.159664</td>\n",
       "      <td>0.218487</td>\n",
       "      <td>0.436975</td>\n",
       "    </tr>\n",
       "  </tbody>\n",
       "</table>\n",
       "</div>"
      ],
      "text/plain": [
       "Rating           1         2         3         4         5\n",
       "Type                                                      \n",
       "Bottoms   0.030287  0.053990  0.110877  0.206742  0.598104\n",
       "Dresses   0.036179  0.073151  0.132974  0.221200  0.536496\n",
       "Intimate  0.036311  0.051873  0.102594  0.213833  0.595389\n",
       "Jackets   0.047481  0.058140  0.088178  0.194767  0.611434\n",
       "Tops      0.036026  0.070710  0.126856  0.219987  0.546421\n",
       "Trend     0.092437  0.092437  0.159664  0.218487  0.436975"
      ]
     },
     "execution_count": 195,
     "metadata": {},
     "output_type": "execute_result"
    }
   ],
   "source": [
    "proportion_of_ratings = df.groupby('Type')['Rating'].value_counts().unstack().div(df.groupby('Type')['Rating'].size(), axis=0)\n",
    "proportion_of_ratings"
   ]
  },
  {
   "cell_type": "code",
   "execution_count": 219,
   "id": "700148e1",
   "metadata": {},
   "outputs": [
    {
     "data": {
      "text/plain": [
       "Type\n",
       "Bottoms     4.288386\n",
       "Dresses     4.148683\n",
       "Intimate    4.280115\n",
       "Jackets     4.264535\n",
       "Tops        4.170068\n",
       "Trend       3.815126\n",
       "Name: Rating, dtype: float64"
      ]
     },
     "execution_count": 219,
     "metadata": {},
     "output_type": "execute_result"
    }
   ],
   "source": [
    "# Calculate the average rating for each product type\n",
    "average_rating_per_type = df.groupby('Type')['Rating'].mean()\n",
    "average_rating_per_type"
   ]
  },
  {
   "cell_type": "markdown",
   "id": "e0466e64",
   "metadata": {},
   "source": [
    "**Most 5-starred and most 1-starred product type**"
   ]
  },
  {
   "cell_type": "code",
   "execution_count": 223,
   "id": "c7b1857c",
   "metadata": {},
   "outputs": [
    {
     "name": "stdout",
     "output_type": "stream",
     "text": [
      "The product that received the most 5-star ratings is Tops with 5703 5-star ratings.\n",
      "The product that received the most 1-star ratings is Tops with 376 1-star ratings.\n"
     ]
    }
   ],
   "source": [
    "most_5_stars = df[df['Rating'] == 5]['Type'].value_counts()\n",
    "print(f\"The product that received the most 5-star ratings is {most_5_stars.idxmax()} with {most_5_stars.max()} 5-star ratings.\")\n",
    "\n",
    "most_1_star = df[df['Rating'] == 1]['Type'].value_counts()\n",
    "print(f\"The product that received the most 1-star ratings is {most_1_star.idxmax()} with {most_1_star.max()} 1-star ratings.\")"
   ]
  },
  {
   "cell_type": "markdown",
   "id": "cd31f24e",
   "metadata": {},
   "source": [
    "**Most 5-starred and most 1-starred product**"
   ]
  },
  {
   "cell_type": "code",
   "execution_count": 203,
   "id": "cf123e7a",
   "metadata": {},
   "outputs": [
    {
     "name": "stdout",
     "output_type": "stream",
     "text": [
      "The product that received the most 5-star ratings is 1078 with 556 5-star ratings.\n",
      "The product that received the most 1-star ratings is 862 with 37 1-star ratings.\n"
     ]
    }
   ],
   "source": [
    "most_5_stars = df[df['Rating'] == 5]['Product_ID'].value_counts()\n",
    "print(f\"The product that received the most 5-star ratings is {most_5_stars.idxmax()} with {most_5_stars.max()} 5-star ratings.\")\n",
    "\n",
    "most_1_star = df[df['Rating'] == 1]['Product_ID'].value_counts()\n",
    "print(f\"The product that received the most 1-star ratings is {most_1_star.idxmax()} with {most_1_star.max()} 1-star ratings.\")"
   ]
  },
  {
   "cell_type": "code",
   "execution_count": 154,
   "id": "38f27b5c",
   "metadata": {},
   "outputs": [
    {
     "data": {
      "image/png": "[encoded data removed]",
      "text/plain": [
       "<Figure size 720x432 with 1 Axes>"
      ]
     },
     "metadata": {
      "needs_background": "light"
     },
     "output_type": "display_data"
    }
   ],
   "source": [
    "plt.figure(figsize=(10,6))\n",
    "df[df['Rating'] == 1]['Product_ID'].value_counts()[:10].sort_index().plot(color='brown', kind = 'bar', alpha=0.7)\n",
    "plt.xlabel('Rating')\n",
    "plt.ylabel('Number of Ratings')\n",
    "plt.title('1 Rating Distribution')\n",
    "plt.show()"
   ]
  },
  {
   "cell_type": "code",
   "execution_count": 155,
   "id": "dec6e5ff",
   "metadata": {},
   "outputs": [
    {
     "data": {
      "image/png": "[encoded data removed]",
      "text/plain": [
       "<Figure size 720x432 with 1 Axes>"
      ]
     },
     "metadata": {
      "needs_background": "light"
     },
     "output_type": "display_data"
    }
   ],
   "source": [
    "plt.figure(figsize=(10,6))\n",
    "df[df['Rating'] == 5]['Product_ID'].value_counts()[:10].sort_index().plot(color='brown', kind = 'bar', alpha=0.7)\n",
    "plt.xlabel('Rating')\n",
    "plt.ylabel('Number of Ratings')\n",
    "plt.title('5 Ratings Distribution')\n",
    "plt.show()"
   ]
  },
  {
   "cell_type": "code",
   "execution_count": 157,
   "id": "5d60ce92",
   "metadata": {},
   "outputs": [
    {
     "data": {
      "image/png": "[encoded data removed]",
      "text/plain": [
       "<Figure size 1008x432 with 2 Axes>"
      ]
     },
     "metadata": {
      "needs_background": "light"
     },
     "output_type": "display_data"
    }
   ],
   "source": [
    "plt.figure(figsize=(14, 6))\n",
    "\n",
    "# 5-star ratings\n",
    "plt.subplot(1, 2, 1)\n",
    "df[df['Rating'] == 5]['Product_ID'].value_counts()[:10].sort_index().plot(color='brown', kind='bar', alpha=0.7)\n",
    "plt.xlabel('Product ID')\n",
    "plt.ylabel('Number of 5-Star Ratings')\n",
    "plt.title('Distribution of 5-Star Ratings')\n",
    "\n",
    "# 1-star ratings\n",
    "plt.subplot(1, 2, 2)\n",
    "df[df['Rating'] == 1]['Product_ID'].value_counts()[:10].sort_index().plot(color='brown', kind='bar', alpha=0.7)\n",
    "plt.xlabel('Product ID')\n",
    "plt.ylabel('Number of 1-Star Ratings')\n",
    "plt.title('Distribution of 1-Star Ratings')\n",
    "plt.tight_layout()\n",
    "plt.show()"
   ]
  },
  {
   "cell_type": "markdown",
   "id": "6278d56b",
   "metadata": {},
   "source": [
    "**Average ratings across age groups**"
   ]
  },
  {
   "cell_type": "code",
   "execution_count": 51,
   "id": "0412d9f9",
   "metadata": {},
   "outputs": [
    {
     "data": {
      "image/png": "[encoded data removed]",
      "text/plain": [
       "<Figure size 720x432 with 1 Axes>"
      ]
     },
     "metadata": {
      "needs_background": "light"
     },
     "output_type": "display_data"
    }
   ],
   "source": [
    "# Average Ratings across Age Groups\n",
    "mean_ratings_age_group = df.groupby('Age_Group')['Rating'].mean().reset_index()\n",
    "plt.figure(figsize=(10, 6))\n",
    "sns.lineplot(data=mean_ratings_age_group, x='Age_Group', y='Rating', marker='o')\n",
    "plt.title('Average Ratings across Age Groups')\n",
    "plt.xlabel('Age Group')\n",
    "plt.ylabel('Average Rating')\n",
    "plt.xticks(rotation=45)\n",
    "plt.show()"
   ]
  },
  {
   "cell_type": "markdown",
   "id": "3c18254d",
   "metadata": {},
   "source": [
    "**Ratings based on age groups within each product type**"
   ]
  },
  {
   "cell_type": "code",
   "execution_count": 29,
   "id": "c60088cf",
   "metadata": {},
   "outputs": [],
   "source": [
    "d1 = df.groupby(['Age_Group', 'Type'])['Rating'].mean().unstack()"
   ]
  },
  {
   "cell_type": "code",
   "execution_count": 32,
   "id": "f2f6746b",
   "metadata": {},
   "outputs": [
    {
     "data": {
      "image/png": "[encoded data removed]",
      "text/plain": [
       "<Figure size 720x432 with 2 Axes>"
      ]
     },
     "metadata": {
      "needs_background": "light"
     },
     "output_type": "display_data"
    }
   ],
   "source": [
    "plt.figure(figsize=(10, 6))\n",
    "sns.heatmap(d1, cmap='YlGnBu', annot=True, fmt='.2f')\n",
    "plt.title('Mean Ratings by Age Group and Product Type')\n",
    "plt.xlabel('Product Type')\n",
    "plt.ylabel('Age Group')\n",
    "plt.tight_layout()\n",
    "plt.show()"
   ]
  },
  {
   "cell_type": "markdown",
   "id": "522615f8",
   "metadata": {},
   "source": [
    "Performing a correlation analysis led to no definitive conclusions. Further visualizing the product type distribution across different age groups"
   ]
  },
  {
   "cell_type": "code",
   "execution_count": 36,
   "id": "34caf0e2",
   "metadata": {},
   "outputs": [
    {
     "data": {
      "image/png": "[encoded data removed]",
      "text/plain": [
       "<Figure size 1008x576 with 2 Axes>"
      ]
     },
     "metadata": {
      "needs_background": "light"
     },
     "output_type": "display_data"
    }
   ],
   "source": [
    "# Visualize Product Type Distribution across Age Groups\n",
    "product_type_age_group = df.groupby(['Age_Group', 'Type']).size().unstack(fill_value=0)\n",
    "plt.figure(figsize=(14, 8))\n",
    "sns.heatmap(product_type_age_group, annot=True, fmt='d', cmap='YlGnBu')\n",
    "plt.title('Distribution of Product Types across Age Groups')\n",
    "plt.xlabel('Product Type')\n",
    "plt.ylabel('Age Group')\n",
    "plt.xticks(rotation=45)\n",
    "plt.show()"
   ]
  },
  {
   "cell_type": "code",
   "execution_count": 177,
   "id": "97edad75",
   "metadata": {},
   "outputs": [
    {
     "data": {
      "text/html": [
       "<div>\n",
       "<style scoped>\n",
       "    .dataframe tbody tr th:only-of-type {\n",
       "        vertical-align: middle;\n",
       "    }\n",
       "\n",
       "    .dataframe tbody tr th {\n",
       "        vertical-align: top;\n",
       "    }\n",
       "\n",
       "    .dataframe thead th {\n",
       "        text-align: right;\n",
       "    }\n",
       "</style>\n",
       "<table border=\"1\" class=\"dataframe\">\n",
       "  <thead>\n",
       "    <tr style=\"text-align: right;\">\n",
       "      <th></th>\n",
       "      <th></th>\n",
       "      <th>Count</th>\n",
       "    </tr>\n",
       "    <tr>\n",
       "      <th>Age_Group</th>\n",
       "      <th>Product_ID</th>\n",
       "      <th></th>\n",
       "    </tr>\n",
       "  </thead>\n",
       "  <tbody>\n",
       "    <tr>\n",
       "      <th rowspan=\"3\" valign=\"top\">0-19</th>\n",
       "      <th>868</th>\n",
       "      <td>2</td>\n",
       "    </tr>\n",
       "    <tr>\n",
       "      <th>1078</th>\n",
       "      <td>2</td>\n",
       "    </tr>\n",
       "    <tr>\n",
       "      <th>1095</th>\n",
       "      <td>2</td>\n",
       "    </tr>\n",
       "    <tr>\n",
       "      <th rowspan=\"3\" valign=\"top\">20-29</th>\n",
       "      <th>1078</th>\n",
       "      <td>132</td>\n",
       "    </tr>\n",
       "    <tr>\n",
       "      <th>1094</th>\n",
       "      <td>119</td>\n",
       "    </tr>\n",
       "    <tr>\n",
       "      <th>862</th>\n",
       "      <td>96</td>\n",
       "    </tr>\n",
       "    <tr>\n",
       "      <th rowspan=\"3\" valign=\"top\">30-39</th>\n",
       "      <th>1078</th>\n",
       "      <td>324</td>\n",
       "    </tr>\n",
       "    <tr>\n",
       "      <th>1094</th>\n",
       "      <td>256</td>\n",
       "    </tr>\n",
       "    <tr>\n",
       "      <th>862</th>\n",
       "      <td>226</td>\n",
       "    </tr>\n",
       "    <tr>\n",
       "      <th rowspan=\"3\" valign=\"top\">40-49</th>\n",
       "      <th>1078</th>\n",
       "      <td>268</td>\n",
       "    </tr>\n",
       "    <tr>\n",
       "      <th>862</th>\n",
       "      <td>225</td>\n",
       "    </tr>\n",
       "    <tr>\n",
       "      <th>1094</th>\n",
       "      <td>171</td>\n",
       "    </tr>\n",
       "    <tr>\n",
       "      <th rowspan=\"3\" valign=\"top\">50-59</th>\n",
       "      <th>1078</th>\n",
       "      <td>162</td>\n",
       "    </tr>\n",
       "    <tr>\n",
       "      <th>862</th>\n",
       "      <td>138</td>\n",
       "    </tr>\n",
       "    <tr>\n",
       "      <th>1094</th>\n",
       "      <td>130</td>\n",
       "    </tr>\n",
       "    <tr>\n",
       "      <th rowspan=\"3\" valign=\"top\">60-69</th>\n",
       "      <th>1078</th>\n",
       "      <td>76</td>\n",
       "    </tr>\n",
       "    <tr>\n",
       "      <th>862</th>\n",
       "      <td>74</td>\n",
       "    </tr>\n",
       "    <tr>\n",
       "      <th>829</th>\n",
       "      <td>70</td>\n",
       "    </tr>\n",
       "    <tr>\n",
       "      <th rowspan=\"3\" valign=\"top\">70-79</th>\n",
       "      <th>862</th>\n",
       "      <td>16</td>\n",
       "    </tr>\n",
       "    <tr>\n",
       "      <th>1078</th>\n",
       "      <td>16</td>\n",
       "    </tr>\n",
       "    <tr>\n",
       "      <th>868</th>\n",
       "      <td>12</td>\n",
       "    </tr>\n",
       "    <tr>\n",
       "      <th rowspan=\"3\" valign=\"top\">80-100</th>\n",
       "      <th>872</th>\n",
       "      <td>7</td>\n",
       "    </tr>\n",
       "    <tr>\n",
       "      <th>1078</th>\n",
       "      <td>7</td>\n",
       "    </tr>\n",
       "    <tr>\n",
       "      <th>936</th>\n",
       "      <td>5</td>\n",
       "    </tr>\n",
       "  </tbody>\n",
       "</table>\n",
       "</div>"
      ],
      "text/plain": [
       "                      Count\n",
       "Age_Group Product_ID       \n",
       "0-19      868             2\n",
       "          1078            2\n",
       "          1095            2\n",
       "20-29     1078          132\n",
       "          1094          119\n",
       "          862            96\n",
       "30-39     1078          324\n",
       "          1094          256\n",
       "          862           226\n",
       "40-49     1078          268\n",
       "          862           225\n",
       "          1094          171\n",
       "50-59     1078          162\n",
       "          862           138\n",
       "          1094          130\n",
       "60-69     1078           76\n",
       "          862            74\n",
       "          829            70\n",
       "70-79     862            16\n",
       "          1078           16\n",
       "          868            12\n",
       "80-100    872             7\n",
       "          1078            7\n",
       "          936             5"
      ]
     },
     "execution_count": 177,
     "metadata": {},
     "output_type": "execute_result"
    }
   ],
   "source": [
    "pd.DataFrame(df.groupby(['Age_Group'])['Product_ID'].value_counts().rename('Count').groupby('Age_Group').nlargest(3).reset_index(level=1, drop=True))"
   ]
  },
  {
   "cell_type": "code",
   "execution_count": 189,
   "id": "448cc89f",
   "metadata": {},
   "outputs": [
    {
     "data": {
      "image/png": "[encoded data removed]",
      "text/plain": [
       "<Figure size 720x576 with 1 Axes>"
      ]
     },
     "metadata": {
      "needs_background": "light"
     },
     "output_type": "display_data"
    }
   ],
   "source": [
    "d3 = {\n",
    "    'Age_Group': ['0-19', '0-19', '0-19', '20-29', '20-29', '20-29', '30-39', '30-39', '30-39', '40-49', '40-49', '40-49', '50-59', '50-59', '50-59', '60-69', '60-69', '60-69', '70-79', '70-79', '70-79', '80-100', '80-100', '80-100'],\n",
    "    'Product_ID': [868, 1078, 1095, 1078, 1094, 862, 1078, 1094, 862, 1078, 862, 1094, 1078, 862, 1094, 1078, 862, 829, 862, 1078, 868, 872, 1078, 936],\n",
    "    'Count': [2, 2, 2, 132, 119, 96, 324, 256, 226, 268, 225, 171, 162, 138, 130, 76, 74, 70, 16, 16, 12, 7, 7, 5]\n",
    "}\n",
    "\n",
    "d3 = pd.DataFrame(d3)\n",
    "\n",
    "plt.figure(figsize=(10, 8))\n",
    "sns.barplot(x='Age_Group', y='Count', hue='Product_ID', data=d3, dodge=True)\n",
    "plt.title('Number of Reviews for Each Product ID Across Different Age Groups')\n",
    "plt.xlabel('Age Group')\n",
    "plt.ylabel('Number of Reviews')\n",
    "plt.legend(title='Product ID', bbox_to_anchor=(1.05, 1), loc='upper left')\n",
    "plt.show()\n"
   ]
  },
  {
   "cell_type": "markdown",
   "id": "6a666aaf",
   "metadata": {},
   "source": [
    "**Other Analysis Performed on the Dataset**"
   ]
  },
  {
   "cell_type": "code",
   "execution_count": 339,
   "id": "d3a60efe",
   "metadata": {},
   "outputs": [
    {
     "data": {
      "text/plain": [
       "Product_ID  Type   \n",
       "1078        Dresses    4.199607\n",
       "862         Tops       4.196250\n",
       "1094        Dresses    4.185923\n",
       "1081        Dresses    4.278066\n",
       "872         Tops       4.380074\n",
       "Name: Rating, dtype: float64"
      ]
     },
     "execution_count": 339,
     "metadata": {},
     "output_type": "execute_result"
    }
   ],
   "source": [
    "# Mean ratings for 5 most reviewed products\n",
    "df.groupby(['Product_ID','Type'])['Rating'].mean().loc[df['Product_ID'].value_counts().head().index]"
   ]
  },
  {
   "cell_type": "code",
   "execution_count": 340,
   "id": "dfb7160b",
   "metadata": {},
   "outputs": [
    {
     "data": {
      "text/plain": [
       "Product_ID  Type    \n",
       "776         Intimate    5.0\n",
       "668         Intimate    5.0\n",
       "633         Bottoms     4.0\n",
       "734         Intimate    3.0\n",
       "522         Intimate    4.0\n",
       "Name: Rating, dtype: float64"
      ]
     },
     "execution_count": 340,
     "metadata": {},
     "output_type": "execute_result"
    }
   ],
   "source": [
    "# Mean ratings for 5 least reviewed products\n",
    "df.groupby(['Product_ID','Type'])['Rating'].mean().loc[df['Product_ID'].value_counts().tail().index]"
   ]
  },
  {
   "cell_type": "code",
   "execution_count": 438,
   "id": "f1101bb2",
   "metadata": {},
   "outputs": [
    {
     "data": {
      "text/plain": [
       "Type\n",
       "Bottoms     4.288386\n",
       "Dresses     4.148683\n",
       "Intimate    4.280115\n",
       "Jackets     4.264535\n",
       "Tops        4.170068\n",
       "Trend       3.815126\n",
       "Name: Rating, dtype: float64"
      ]
     },
     "execution_count": 438,
     "metadata": {},
     "output_type": "execute_result"
    }
   ],
   "source": [
    "# Mean rating per product type\n",
    "df.groupby(['Type'])['Rating'].mean()"
   ]
  },
  {
   "cell_type": "code",
   "execution_count": 544,
   "id": "7ed27706",
   "metadata": {},
   "outputs": [
    {
     "data": {
      "text/plain": [
       "{'0-19': 'Dresses',\n",
       " '20-29': 'Tops',\n",
       " '30-39': 'Tops',\n",
       " '40-49': 'Tops',\n",
       " '50-59': 'Tops',\n",
       " '60-69': 'Tops',\n",
       " '70-79': 'Tops',\n",
       " '80-100': 'Tops'}"
      ]
     },
     "execution_count": 544,
     "metadata": {},
     "output_type": "execute_result"
    }
   ],
   "source": [
    "# Best rated products per age group\n",
    "df_best_rated = df[df['Rating']==5].groupby(['Age_Bucket', 'Type']).size().unstack()\n",
    "best_rated = {}\n",
    "\n",
    "for i in df_best_rated.index:\n",
    "    best_prod = df_best_rated.loc[i].idxmax()\n",
    "    best_rated[i] = best_prod\n",
    "best_rated"
   ]
  },
  {
   "cell_type": "code",
   "execution_count": 546,
   "id": "9920229b",
   "metadata": {},
   "outputs": [
    {
     "data": {
      "text/plain": [
       "{'0-19': 'Intimate',\n",
       " '20-29': 'Tops',\n",
       " '30-39': 'Tops',\n",
       " '40-49': 'Tops',\n",
       " '50-59': 'Tops',\n",
       " '60-69': 'Tops',\n",
       " '70-79': 'Tops',\n",
       " '80-100': 'Dresses'}"
      ]
     },
     "execution_count": 546,
     "metadata": {},
     "output_type": "execute_result"
    }
   ],
   "source": [
    "# Worst rated products per age group\n",
    "df_best_rated = df[df['Rating']==1].groupby(['Age_Bucket', 'Type']).size().unstack()\n",
    "worst_rated = {}\n",
    "\n",
    "for i in df_best_rated.index:\n",
    "    worst_prod = df_best_rated.loc[i].idxmax()\n",
    "    worst_rated[i] = worst_prod\n",
    "worst_rated"
   ]
  },
  {
   "cell_type": "code",
   "execution_count": null,
   "id": "080fac28",
   "metadata": {},
   "outputs": [],
   "source": []
  }
 ],
 "metadata": {
  "kernelspec": {
   "display_name": "Python 3 (ipykernel)",
   "language": "python",
   "name": "python3"
  },
  "language_info": {
   "codemirror_mode": {
    "name": "ipython",
    "version": 3
   },
   "file_extension": ".py",
   "mimetype": "text/x-python",
   "name": "python",
   "nbconvert_exporter": "python",
   "pygments_lexer": "ipython3",
   "version": "3.9.12"
  }
 },
 "nbformat": 4,
 "nbformat_minor": 5
}
